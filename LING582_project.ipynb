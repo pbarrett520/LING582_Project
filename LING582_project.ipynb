{
 "cells": [
  {
   "cell_type": "code",
   "execution_count": 7,
   "metadata": {},
   "outputs": [],
   "source": [
    "import pandas as pd\n",
    "import nltk\n",
    "from nltk.stem import PorterStemmer, WordNetLemmatizer\n",
    "from nltk.tokenize import word_tokenize, sent_tokenize\n",
    "from nltk.tag import pos_tag\n",
    "import torch\n",
    "import re\n",
    "from transformers import DistilBertTokenizer, DistilBertForSequenceClassification\n",
    "from sklearn.model_selection import train_test_split\n",
    "from torch.utils.data import DataLoader, TensorDataset\n",
    "\n",
    "\n",
    "file_path = \"/home/patrick/dev/LING582_Project/train.csv\"\n",
    "data = pd.read_csv(file_path)\n",
    "\n",
    "lemmatizer = WordNetLemmatizer()\n",
    "stop_words = {'am', 'she', \"it's\", 'herself', 'hasn', 'll', 'they', 'do', 'he', \n",
    "              'before', 'where', 'its', 'this', 'can', 'them', 'but', 'these', 'so', 'after', \n",
    "              'couldn', 'himself', 'has', 'once', 'had', 'were', 'by', 'just', 'if', \n",
    "              'of',  'needn', 'here', 'be', 'there',  'didn', 'more', 'on', \n",
    "              'your', 'again',  'will', 'yourselves', 'should', \n",
    "              'his', 'their', 'aren', \"haven't\", 'off', \"you'll\", 'as', 'we', 'few', 'been', 'doing', 'own', \n",
    "              'me', 'between', 'through', 'when', 'down', 'you', 'does', 'because', 'for', 'him', 'the',\n",
    "              \"don't\", 'very', 'an', 'ours', 'at', 'hers', 'is', 'have', 'about', 'themselves', \n",
    "              'any', 'from', 'against', 'i', 'to', 'how', 'it', 'yours', 'theirs', 'not', 'my', \n",
    "              'with', 'in', 'up', 'a', 'what', \"didn't\", 'that',  'ourselves', 'whom', 'during', 'same', \n",
    "              'other', 'and', 'while', 'don', 'all', 'o', 'those', 'into', 'under', 'now', 'too', 'further', \n",
    "              'then', 'itself', 'having', 'who', 'isn', 'most', 'her', \n",
    "              'or', 'did', 'each', 'why', 'above', 'was', 'than', 'are', 'which', 't', 'yourself', 'myself', \n",
    "              'our', 'some', 'out', 'only', 'ma', 'no'}\n",
    "\n",
    "def preprocess(text):\n",
    "    # Convert to lowercase\n",
    "    text = text.lower()\n",
    "    \n",
    "    # Tokenization\n",
    "    words = word_tokenize(text)\n",
    "\n",
    "    # Remove punctuation\n",
    "    words = [word for word in words if word.isalnum()]\n",
    "\n",
    "    # Remove Stopwords\n",
    "    words = [word for word in words if word not in stop_words]\n",
    "    \n",
    "    # Lemmatization\n",
    "    lemmatized_words = [lemmatizer.lemmatize(word) for word in words]\n",
    "    \n",
    "    return ' '.join(lemmatized_words)\n",
    "\n",
    "def safe_preprocess(text):\n",
    "    try:\n",
    "        return preprocess(text)\n",
    "    except Exception as e:\n",
    "        print(f\"Error with text: {text}\")\n",
    "        print(f\"Exception: {e}\")\n",
    "        return text  # or return an empty string\n",
    "\n",
    "data['TEXT'] = data['TEXT'].apply(safe_preprocess)\n",
    "\n",
    "\n",
    "\n"
   ]
  },
  {
   "cell_type": "code",
   "execution_count": 8,
   "metadata": {},
   "outputs": [
    {
     "data": {
      "text/plain": [
       "Index(['ID', 'TEXT', 'LABEL'], dtype='object')"
      ]
     },
     "execution_count": 8,
     "metadata": {},
     "output_type": "execute_result"
    }
   ],
   "source": [
    "data.columns"
   ]
  },
  {
   "cell_type": "code",
   "execution_count": 10,
   "metadata": {},
   "outputs": [],
   "source": [
    "data['SPAN_1'], data['SPAN_2'] = zip(*data['TEXT'].apply(lambda x: x.split(r'[SNIPPET]', 1) + [None] if len(x.split(r'[SNIPPET]', 1)) == 1 else x.split(r'[SNIPPET]', 1)))"
   ]
  },
  {
   "cell_type": "code",
   "execution_count": 11,
   "metadata": {},
   "outputs": [],
   "source": [
    "# Tokenization & Conversion to Input IDs and Attention Masks\n",
    "tokenizer = DistilBertTokenizer.from_pretrained('distilbert-base-uncased')\n",
    "\n",
    "def encode_text(text):\n",
    "    text = \"\" if text is None else text\n",
    "    encoded = tokenizer.encode_plus(\n",
    "        text,\n",
    "        add_special_tokens=True,\n",
    "        max_length=512,\n",
    "        padding='max_length',\n",
    "        return_attention_mask=True,\n",
    "        return_tensors='pt',\n",
    "        truncation=True\n",
    "    )\n",
    "    return encoded['input_ids'][0], encoded['attention_mask'][0]\n",
    "\n",
    "data['input_ids_1'], data['attention_mask_1'] = zip(*data['SPAN_1'].apply(encode_text))\n",
    "data['input_ids_2'], data['attention_mask_2'] = zip(*data['SPAN_2'].apply(encode_text))\n",
    "\n",
    "# Dataset Splitting\n",
    "train_texts, val_texts, train_labels, val_labels = train_test_split(\n",
    "    data[['input_ids_1', 'attention_mask_1', 'input_ids_2', 'attention_mask_2']],\n",
    "    data['LABEL'],\n",
    "    test_size=0.2\n",
    ")\n",
    "\n",
    "# Batching\n",
    "BATCH_SIZE = 16\n",
    "\n",
    "input_ids_tensor = torch.cat(train_texts['input_ids_1'].tolist()).view(-1, 512)\n",
    "attention_mask_tensor = torch.cat(train_texts['attention_mask_1'].tolist()).view(-1, 512)\n",
    "labels_tensor = torch.tensor(train_labels.tolist())\n",
    "\n",
    "train_dataset = TensorDataset(input_ids_tensor, attention_mask_tensor, labels_tensor)\n",
    "train_dataloader = DataLoader(train_dataset, shuffle=True, batch_size=BATCH_SIZE)\n",
    "\n",
    "val_input_ids_tensor = torch.cat(val_texts['input_ids_1'].tolist()).view(-1, 512)\n",
    "val_attention_mask_tensor = torch.cat(val_texts['attention_mask_1'].tolist()).view(-1, 512)\n",
    "val_labels_tensor = torch.tensor(val_labels.tolist())\n",
    "\n",
    "val_dataset = TensorDataset(val_input_ids_tensor, val_attention_mask_tensor, val_labels_tensor)\n",
    "val_dataloader = DataLoader(val_dataset, shuffle=False, batch_size=BATCH_SIZE)"
   ]
  }
 ],
 "metadata": {
  "kernelspec": {
   "display_name": "Python 3",
   "language": "python",
   "name": "python3"
  },
  "language_info": {
   "codemirror_mode": {
    "name": "ipython",
    "version": 3
   },
   "file_extension": ".py",
   "mimetype": "text/x-python",
   "name": "python",
   "nbconvert_exporter": "python",
   "pygments_lexer": "ipython3",
   "version": "3.10.12"
  },
  "orig_nbformat": 4
 },
 "nbformat": 4,
 "nbformat_minor": 2
}
